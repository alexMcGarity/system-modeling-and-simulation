{
 "cells": [
  {
   "cell_type": "code",
   "execution_count": 8,
   "metadata": {},
   "outputs": [
    {
     "data": {
      "image/png": "[encoded data removed]",
      "text/plain": [
       "<Figure size 640x480 with 5 Axes>"
      ]
     },
     "metadata": {},
     "output_type": "display_data"
    }
   ],
   "source": [
    "\n",
    "\n",
    "#Conduct a bifurcation analysis of the following dynamical system with parameter r:\n",
    "#dx/dt = rx(x+1)-x\n",
    "\n",
    "from pylab import *\n",
    "\n",
    "Dt = 0.01\n",
    "\n",
    "def initialize():\n",
    "    global x, xresult, y, yresult\n",
    "    x = y = 0.1\n",
    "    xresult = [x]\n",
    "    yresult = [y]\n",
    "    \n",
    "def observe():\n",
    "    global x, xresult, y, yresult\n",
    "    xresult.append(x)\n",
    "    yresult.append(y)\n",
    "\n",
    "def update():\n",
    "    global x, xresult, y, yresult\n",
    "    nextx = x + y * Dt\n",
    "    nexty = y + (r * (x + 1) - x) * Dt\n",
    "    x, y = nextx, nexty\n",
    "\n",
    "def plot_phase_space():\n",
    "    initialize()\n",
    "    for t in range(10000):\n",
    "        update()\n",
    "        observe()\n",
    "    plot(xresult, yresult)\n",
    "    axis('image')\n",
    "    axis([-3, 3, -3, 3])\n",
    "    title('r = ' + str(r))\n",
    "\n",
    "rs = [-1, -0.1, 0, .1, 1]\n",
    "for i in range(len(rs)):\n",
    "    subplot(1, len(rs), i + 1)\n",
    "    r = rs[i]\n",
    "    plot_phase_space()\n",
    "\n",
    "show()\n",
    "\n"
   ]
  },
  {
   "attachments": {},
   "cell_type": "markdown",
   "metadata": {},
   "source": [
    "Bifurcation occurs at the critical threshold of zero. This model appears to simulate a Hopf bifurcation that transitions from a spiral focus to an unstable spiral focus as it shrinks then gets stretched to the right"
   ]
  }
 ],
 "metadata": {
  "kernelspec": {
   "display_name": "Python 3",
   "language": "python",
   "name": "python3"
  },
  "language_info": {
   "codemirror_mode": {
    "name": "ipython",
    "version": 3
   },
   "file_extension": ".py",
   "mimetype": "text/x-python",
   "name": "python",
   "nbconvert_exporter": "python",
   "pygments_lexer": "ipython3",
   "version": "3.11.0"
  },
  "orig_nbformat": 4,
  "vscode": {
   "interpreter": {
    "hash": "c261aea317cc0286b3b3261fbba9abdec21eaa57589985bb7a274bf54d6cc0a7"
   }
  }
 },
 "nbformat": 4,
 "nbformat_minor": 2
}
